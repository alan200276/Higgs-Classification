{
 "cells": [
  {
   "cell_type": "code",
   "execution_count": 1,
   "metadata": {},
   "outputs": [],
   "source": [
    "import numpy as np\n",
    "import matplotlib.pyplot as plt\n",
    "import time\n",
    "from tensorflow.keras.utils import to_categorical\n",
    "from sklearn import metrics"
   ]
  },
  {
   "cell_type": "code",
   "execution_count": null,
   "metadata": {},
   "outputs": [],
   "source": [
    "print(time.strftime(\"%a %b %d %H:%M:%S %Y\", time.localtime()))\n",
    "ticks_1 = time.time()\n",
    "############################################################################################################################################################\n",
    "\n",
    "path = \"./Test_Images\"\n",
    "\n",
    "ggh_image_train = np.load(path + \"/ggh_image_train_1n1c1c.npz\")[\"arr_0\"]\n",
    "ggh_jet_train = np.load(path + \"/ggh_jet_train_1n1c1c.npz\")[\"arr_0\"]\n",
    "ggh_image_val = np.load(path + \"/ggh_image_val_1n1c1c.npz\")[\"arr_0\"]\n",
    "ggh_jet_val = np.load(path + \"/ggh_jet_val_1n1c1c.npz\")[\"arr_0\"]\n",
    "\n",
    "vbf_image_train = np.load(path + \"/vbf_image_train_1n1c1c.npz\")[\"arr_0\"]\n",
    "vbf_jet_train = np.load(path + \"/vbf_jet_train_1n1c1c.npz\")[\"arr_0\"]\n",
    "vbf_image_val = np.load(path + \"/vbf_image_val_1n1c1c.npz\")[\"arr_0\"]\n",
    "vbf_jet_val = np.load(path + \"/vbf_jet_val_1n1c1c.npz\")[\"arr_0\"]\n",
    "\n",
    "vh_image_train = np.load(path + \"/vh_image_train_1n1c1c.npz\")[\"arr_0\"]\n",
    "vh_jet_train = np.load(path + \"/vh_jet_train_1n1c1c.npz\")[\"arr_0\"]\n",
    "vh_image_val = np.load(path + \"/vh_image_val_1n1c1c.npz\")[\"arr_0\"]\n",
    "vh_jet_val = np.load(path + \"/vh_jet_val_1n1c1c.npz\")[\"arr_0\"]\n",
    "\n",
    "tth_image_train = np.load(path + \"/tth_image_train_1n1c1c.npz\")[\"arr_0\"]\n",
    "tth_jet_train = np.load(path + \"/tth_jet_train_1n1c1c.npz\")[\"arr_0\"]\n",
    "tth_image_val = np.load(path + \"/tth_image_val_1n1c1c.npz\")[\"arr_0\"]\n",
    "tth_jet_val = np.load(path + \"/tth_jet_val_1n1c1c.npz\")[\"arr_0\"]\n",
    "\n",
    "############################################################################################################################################################\n",
    "ticks_2 = time.time()\n",
    "totaltime =  ticks_2 - ticks_1\n",
    "print(\"\\033[3;33mTime consumption : {:.4f} min\\033[0;m\".format(totaltime/60.))\n",
    "\n"
   ]
  },
  {
   "cell_type": "code",
   "execution_count": null,
   "metadata": {},
   "outputs": [],
   "source": [
    "# print(time.strftime(\"%a %b %d %H:%M:%S %Y\", time.localtime()))\n",
    "ticks_1 = time.time()\n",
    "############################################################################################################################################################\n",
    "\n",
    "channel = \"1n1c1c\"\n",
    "\n",
    "name_list = [\"ggh_image_train_\"+str(channel),\n",
    "             \"vbf_image_train_\"+str(channel),\n",
    "             \"vh_image_train_\"+str(channel),\n",
    "             \"tth_image_train_\"+str(channel),\n",
    "             \"ggh_jet_train_\"+str(channel),\n",
    "             \"vbf_jet_train_\"+str(channel),\n",
    "             \"vh_jet_train_\"+str(channel),\n",
    "             \"tth_jet_train_\"+str(channel),\n",
    "             \"ggh_image_val_\"+str(channel),\n",
    "             \"vbf_image_val_\"+str(channel),\n",
    "             \"vh_image_val_\"+str(channel),\n",
    "             \"tth_image_val_\"+str(channel),\n",
    "             \"ggh_jet_val_\"+str(channel),\n",
    "             \"vbf_jet_val_\"+str(channel),\n",
    "             \"vh_jet_val_\"+str(channel),\n",
    "             \"tth_jet_val_\"+str(channel),\n",
    "            ]\n",
    "\n",
    "\n",
    "total = [ggh_image_train,vbf_image_train,vh_image_train,tth_image_train,\n",
    "         ggh_jet_train,vbf_jet_train,vh_jet_train,tth_jet_train,\n",
    "         ggh_image_val,vbf_image_val,vh_image_val,tth_image_val,\n",
    "         ggh_jet_val,vbf_jet_val,vh_jet_val,tth_jet_val\n",
    "          ]\n",
    "\n",
    "\n",
    "for i, process in enumerate(total):\n",
    "    tmp = []\n",
    "    for j in range(len(process)):\n",
    "        tmp.append([process[j][0],process[j][1]])\n",
    "#         tmp.append([process[j][1]])\n",
    "\n",
    "    tmp = np.array(tmp)\n",
    "    print(name_list[i])\n",
    "    np.savez_compressed(path + \"/\" + name_list[i], tmp)\n",
    "\n",
    "\n",
    "############################################################################################################################################################\n",
    "ticks_2 = time.time()\n",
    "totaltime =  ticks_2 - ticks_1\n",
    "print(\"\\033[3;33mTime consumption : {:.4f} min\\033[0;m\".format(totaltime/60.))\n",
    "\n"
   ]
  },
  {
   "cell_type": "code",
   "execution_count": 3,
   "metadata": {},
   "outputs": [
    {
     "data": {
      "text/plain": [
       "(25000, 2, 40, 40)"
      ]
     },
     "execution_count": 3,
     "metadata": {},
     "output_type": "execute_result"
    }
   ],
   "source": [
    "np.load(\"./Train_Images/ggh_image_val_0n1c1c.npz\")[\"arr_0\"].shape"
   ]
  },
  {
   "cell_type": "code",
   "execution_count": null,
   "metadata": {},
   "outputs": [],
   "source": [
    "CNN_pre_1 = np.load(\"./Models/2CNN_1n_1c_1c_1.npy\")\n",
    "\n",
    "CNN_pre_2 = np.load(\"./Models/2CNN_1n_1c_1c_2.npy\")"
   ]
  },
  {
   "cell_type": "code",
   "execution_count": null,
   "metadata": {},
   "outputs": [],
   "source": [
    "CNN_pre = np.concatenate((CNN_pre_1[:114500],CNN_pre_2[:114500]))\n",
    "\n",
    "for i in range(1,4):   \n",
    "    CNN_pre = np.concatenate((CNN_pre,CNN_pre_1[int(114500*i):int(114500*(i+1))]))\n",
    "    CNN_pre = np.concatenate((CNN_pre,CNN_pre_2[int(114500*i):int(114500*(i+1))]))\n",
    "\n",
    "np.save(\"./Models/2CNN_1n1c1c\",CNN_pre)\n",
    "    \n",
    "y_test = np.concatenate((np.full(229000, 0), np.full(229000, 1)))\n",
    "y_test = np.concatenate((y_test, np.full(229000, 2)))\n",
    "y_test = np.concatenate((y_test, np.full(229000, 3)))\n",
    "y_test = to_categorical(y_test)\n",
    "\n",
    "print(metrics.roc_auc_score(y_test[:,0],CNN_pre[:,0]))"
   ]
  }
 ],
 "metadata": {
  "kernelspec": {
   "display_name": "Python 3",
   "language": "python",
   "name": "python3"
  },
  "language_info": {
   "codemirror_mode": {
    "name": "ipython",
    "version": 3
   },
   "file_extension": ".py",
   "mimetype": "text/x-python",
   "name": "python",
   "nbconvert_exporter": "python",
   "pygments_lexer": "ipython3",
   "version": "3.8.5"
  }
 },
 "nbformat": 4,
 "nbformat_minor": 4
}
