{
 "cells": [
  {
   "cell_type": "code",
   "execution_count": 1,
   "metadata": {},
   "outputs": [],
   "source": [
    "# Import local libraries\n",
    "import numpy as np\n",
    "import matplotlib.pyplot as plt\n",
    "import time\n",
    "import pandas as pd\n",
    "import importlib\n",
    "\n",
    "import csv_decoder\n",
    "import save_and_load\n",
    "import substructure"
   ]
  },
  {
   "cell_type": "markdown",
   "metadata": {},
   "source": [
    "### Load Event From .csv file\n",
    "#### Get event_list, mass_list, event_image_list, Higgs_lest, weight_list and # of total event."
   ]
  },
  {
   "cell_type": "code",
   "execution_count": 2,
   "metadata": {},
   "outputs": [
    {
     "name": "stdout",
     "output_type": "stream",
     "text": [
      "Wed Jun 10 00:22:36 2020\n",
      "Loading ggH events\n",
      "Loading .csv event files from /home/alan/FrankShower/ggh_test/ghost_3/ containing '.csv'\n",
      "List of files is: ['.ipynb_checkpoints', 'ggh_1_out_01', 'ggh_1__seed_47540.csv', 'ggh_2_out_01', 'ggh_2__seed_2657.csv', 'ggh_3_out_01', 'ggh_3__seed_104100.csv', 'ggh_1_out_02', 'ggh_1__seed_32868.csv', 'ggh_2_out_02', 'ggh_2__seed_76170.csv', 'ggh_3_out_02', 'ggh_3__seed_103373.csv']\n",
      "Currently reading: .ipynb_checkpoints\n",
      "Currently reading: ggh_1_out_01\n",
      "Currently reading: ggh_1__seed_47540.csv\n",
      "1files processed.\n",
      "Currently reading: ggh_2_out_01\n",
      "Currently reading: ggh_2__seed_2657.csv\n",
      "2files processed.\n",
      "Currently reading: ggh_3_out_01\n",
      "Currently reading: ggh_3__seed_104100.csv\n",
      "3files processed.\n",
      "Currently reading: ggh_1_out_02\n",
      "Currently reading: ggh_1__seed_32868.csv\n",
      "4files processed.\n",
      "Currently reading: ggh_2_out_02\n",
      "Currently reading: ggh_2__seed_76170.csv\n",
      "5files processed.\n",
      "Currently reading: ggh_3_out_02\n",
      "Currently reading: ggh_3__seed_103373.csv\n",
      "6files processed.\n",
      "Loading VBF events\n",
      "Loading .csv event files from /home/alan/FrankShower/vbf_test/ghost_3/ containing '.csv'\n",
      "List of files is: ['.ipynb_checkpoints', 'vbf_1_out_01', 'vbf_1__seed_78525.csv', 'vbf_2_out_01', 'vbf_2__seed_25272.csv', 'vbf_3_out_01', 'vbf_3__seed_19228.csv', 'vbf_1_out_02', 'vbf_1__seed_77952.csv', 'vbf_2_out_02', 'vbf_2__seed_28547.csv', 'vbf_3_out_02', 'vbf_3__seed_84083.csv']\n",
      "Currently reading: .ipynb_checkpoints\n",
      "Currently reading: vbf_1_out_01\n",
      "Currently reading: vbf_1__seed_78525.csv\n",
      "1files processed.\n",
      "Currently reading: vbf_2_out_01\n",
      "Currently reading: vbf_2__seed_25272.csv\n",
      "2files processed.\n",
      "Currently reading: vbf_3_out_01\n",
      "Currently reading: vbf_3__seed_19228.csv\n",
      "3files processed.\n",
      "Currently reading: vbf_1_out_02\n",
      "Currently reading: vbf_1__seed_77952.csv\n",
      "4files processed.\n",
      "Currently reading: vbf_2_out_02\n",
      "Currently reading: vbf_2__seed_28547.csv\n",
      "5files processed.\n",
      "Currently reading: vbf_3_out_02\n",
      "Currently reading: vbf_3__seed_84083.csv\n",
      "6files processed.\n",
      "Loading VH events\n",
      "Loading .csv event files from /home/alan/FrankShower/vh_test/ghost_3/ containing '.csv'\n",
      "List of files is: ['.ipynb_checkpoints', 'vh_1_out_01', 'vh_ghost_1__seed_28045.csv', 'vh_2_out_01', 'vh_ghost_2__seed_70623.csv', 'vh_3_out_01', 'vh_ghost_3__seed_80219.csv', 'vh_1_out_02', 'vh_ghost_1__seed_15210.csv', 'vh_2_out_02', 'vh_ghost_2__seed_86359.csv', 'vh_3_out_02', 'vh_ghost_3__seed_77226.csv']\n",
      "Currently reading: .ipynb_checkpoints\n",
      "Currently reading: vh_1_out_01\n",
      "Currently reading: vh_ghost_1__seed_28045.csv\n",
      "1files processed.\n",
      "Currently reading: vh_2_out_01\n",
      "Currently reading: vh_ghost_2__seed_70623.csv\n",
      "2files processed.\n",
      "Currently reading: vh_3_out_01\n",
      "Currently reading: vh_ghost_3__seed_80219.csv\n",
      "3files processed.\n",
      "Currently reading: vh_1_out_02\n",
      "Currently reading: vh_ghost_1__seed_15210.csv\n",
      "4files processed.\n",
      "Currently reading: vh_2_out_02\n",
      "Currently reading: vh_ghost_2__seed_86359.csv\n",
      "5files processed.\n",
      "Currently reading: vh_3_out_02\n",
      "Currently reading: vh_ghost_3__seed_77226.csv\n",
      "6files processed.\n",
      "Loading ttH events\n",
      "Loading .csv event files from /home/alan/FrankShower/tth_test/ghost_3/ containing '.csv'\n",
      "List of files is: ['.ipynb_checkpoints', 'tth_ghost_1__seed_75072.csv', 'tth_ghost_2__seed_50764.csv', 'tth_ghost_3__seed_83557.csv', 'tth_ghost_1__seed_96273.csv', 'tth_ghost_2__seed_93759.csv', 'tth_ghost_3__seed_66903.csv']\n",
      "Currently reading: .ipynb_checkpoints\n",
      "Currently reading: tth_ghost_1__seed_75072.csv\n",
      "1files processed.\n",
      "Currently reading: tth_ghost_2__seed_50764.csv\n",
      "2files processed.\n",
      "Currently reading: tth_ghost_3__seed_83557.csv\n",
      "3files processed.\n",
      "Currently reading: tth_ghost_1__seed_96273.csv\n",
      "4files processed.\n",
      "Currently reading: tth_ghost_2__seed_93759.csv\n",
      "5files processed.\n",
      "Currently reading: tth_ghost_3__seed_66903.csv\n",
      "6files processed.\n",
      "\u001b[3;33mTime consumption : 75.2662 min\u001b[0;m\n"
     ]
    }
   ],
   "source": [
    "importlib.reload(csv_decoder)\n",
    "# time counter\n",
    "print(time.strftime(\"%a %b %d %H:%M:%S %Y\", time.localtime()))\n",
    "ticks_1 = time.time()\n",
    "############################################################################################################################################################\n",
    "\n",
    "# Jet and event image setting\n",
    "width = 40\n",
    "height = 40\n",
    "\n",
    "# Reading in custom showered files;\n",
    "# This read produces event_list (collection of raw vectors) and event images\n",
    "\n",
    "# This will be used to test saving mechanisms.\n",
    "\n",
    "\n",
    "## Loading events passed through ghost-association algorithm\n",
    "csv_test_path = \"/home/alan/FrankShower\"\n",
    "\n",
    "print('Loading ggH events')\n",
    "hj_event_list,hj_mass_list,hj_image_list, hj_higgs_list, hj_weight_list, num_hj_files = \\\n",
    "    csv_decoder.load_events(path= csv_test_path + \"/ggh_test/ghost_3/\",\\\n",
    "                contains=\".csv\",pt_cut=1, width=width, height=height)\n",
    "print('Loading VBF events')\n",
    "vbf_event_list,vbf_mass_list, vbf_image_list, vbf_higgs_list, vbf_weight_list, num_vbf_files = \\\n",
    "    csv_decoder.load_events(path= csv_test_path + \"/vbf_test/ghost_3/\",\\\n",
    "                contains=\".csv\",pt_cut=1, width=width, height=height)\n",
    "\n",
    "print('Loading VH events')\n",
    "vh_event_list,vh_mass_list, vh_image_list, vh_higgs_list, vh_weight_list, num_vh_files = \\\n",
    "    csv_decoder.load_events(path= csv_test_path + \"/vh_test/ghost_3/\",\\\n",
    "                contains=\".csv\",pt_cut=1, width=width, height=height)\n",
    "\n",
    "print('Loading ttH events')\n",
    "tth_event_list,tth_mass_list, tth_image_list, tth_higgs_list, tth_weight_list, num_tth_files = \\\n",
    "    csv_decoder.load_events(path= csv_test_path + \"/tth_test/ghost_3/\",\\\n",
    "                contains=\".csv\",pt_cut=1, width=width, height=height)\n",
    "\n",
    "############################################################################################################################################################\n",
    "ticks_2 = time.time()\n",
    "totaltime =  ticks_2 - ticks_1\n",
    "print(\"\\033[3;33mTime consumption : {:.4f} min\\033[0;m\".format(totaltime/60.))"
   ]
  },
  {
   "cell_type": "code",
   "execution_count": null,
   "metadata": {},
   "outputs": [],
   "source": [
    "importlib.reload(csv_decoder)\n",
    "# time counter\n",
    "print(time.strftime(\"%a %b %d %H:%M:%S %Y\", time.localtime()))\n",
    "ticks_1 = time.time()\n",
    "############################################################################################################################################################\n",
    "\n",
    "# Jet and event image setting\n",
    "width = 40\n",
    "height = 40\n",
    "\n",
    "# Reading in custom showered files;\n",
    "# This read produces event_list (collection of raw vectors) and event images\n",
    "\n",
    "# This will be used to test saving mechanisms.\n",
    "\n",
    "\n",
    "## Loading events passed through ghost-association algorithm\n",
    "csv_test_path = \"/home/alan/FrankShower\"\n",
    "\n",
    "print('Loading ggH events')\n",
    "hj_event_list,hj_mass_list,hj_image_list, hj_higgs_list, hj_weight_list, num_hj_files = \\\n",
    "    csv_decoder.load_events(path= csv_test_path + \"/B_hadron_test_2/\",\\\n",
    "                contains=\".csv\",pt_cut=1, width=width, height=height)\n",
    "# print('Loading VBF events')\n",
    "# vbf_event_list,vbf_mass_list, vbf_image_list, vbf_higgs_list, vbf_weight_list, num_vbf_files = \\\n",
    "#     csv_decoder.load_events(path= csv_test_path + \"/vbf_test/ghost_2/\",\\\n",
    "#                 contains=\".csv\",pt_cut=1, width=width, height=height)\n",
    "\n",
    "# print('Loading VH events')\n",
    "# vh_event_list,vh_mass_list, vh_image_list, vh_higgs_list, vh_weight_list, num_vh_files = \\\n",
    "#     csv_decoder.load_events(path= csv_test_path + \"/vh_test/ghost_2/\",\\\n",
    "#                 contains=\".csv\",pt_cut=1, width=width, height=height)\n",
    "\n",
    "# print('Loading ttH events')\n",
    "# tth_event_list,tth_mass_list, tth_image_list, tth_higgs_list, tth_weight_list, num_tth_files = \\\n",
    "#     csv_decoder.load_events(path= csv_test_path + \"/tth_test/ghost_2/\",\\\n",
    "#                 contains=\".csv\",pt_cut=1, width=width, height=height)\n",
    "\n",
    "############################################################################################################################################################\n",
    "ticks_2 = time.time()\n",
    "totaltime =  ticks_2 - ticks_1\n",
    "print(\"\\033[3;33mTime consumption : {:.4f} min\\033[0;m\".format(totaltime/60.))"
   ]
  },
  {
   "cell_type": "code",
   "execution_count": 4,
   "metadata": {},
   "outputs": [
    {
     "data": {
      "text/plain": [
       "12092"
      ]
     },
     "execution_count": 4,
     "metadata": {},
     "output_type": "execute_result"
    }
   ],
   "source": [
    "np.count_nonzero((np.array(hj_higgs_list)[:,6] > 0.2) & (np.array(hj_higgs_list)[:,6] < 0.25) )"
   ]
  },
  {
   "cell_type": "code",
   "execution_count": 7,
   "metadata": {},
   "outputs": [
    {
     "data": {
      "image/png": "[encoded data removed]",
      "text/plain": [
       "<Figure size 648x432 with 1 Axes>"
      ]
     },
     "metadata": {
      "needs_background": "light"
     },
     "output_type": "display_data"
    }
   ],
   "source": [
    "fig, ax = plt.subplots(1,1, figsize=(9,6))\n",
    "xvalue = np.linspace(0,1,21)\n",
    "plt.hist(np.array(hj_higgs_list)[:,6],bins=xvalue, histtype='step', color = \"r\", align='mid',linewidth=3)\n",
    "\n",
    "# plt.xlabel(\"$\\Delta R(two\\,\\,B\\,Hadrons)$\", fontsize=25,horizontalalignment='right',x=1)\n",
    "plt.xlabel(\"$\\Delta R(2-b\\,\\,tagging)$\", fontsize=25,horizontalalignment='right',x=1)\n",
    "plt.ylabel(\"# of events\",fontsize=25,horizontalalignment='right',y=1)\n",
    "plt.show()"
   ]
  },
  {
   "cell_type": "code",
   "execution_count": 52,
   "metadata": {},
   "outputs": [
    {
     "data": {
      "image/png": "[encoded data removed]",
      "text/plain": [
       "<Figure size 648x432 with 1 Axes>"
      ]
     },
     "metadata": {
      "needs_background": "light"
     },
     "output_type": "display_data"
    }
   ],
   "source": [
    "namelist = [\"b_E\",\"b_Px\",\"b_Py\",\"b_Pz\",\"bbar_E\",\"bbar_Px\",\"bbar_Py\",\"bbar_Pz\",\"evtweight\",\"dbb\"]\n",
    "# data_1 = pd.read_csv(\"/home/alan/FrankShower/B_hadron_Test/truth_1.csv\")\n",
    "# data_2 = pd.read_csv(\"/home/alan/FrankShower/B_hadron_Test/truth_2.csv\")\n",
    "# data_3 = pd.read_csv(\"/home/alan/FrankShower/B_hadron_Test/truth_3.csv\")\n",
    "\n",
    "# data_1 = pd.read_csv(\"/home/alan/FrankShower/B_hadron_Test/fordeltaR_1.csv\")\n",
    "# data_2 = pd.read_csv(\"/home/alan/FrankShower/B_hadron_Test/fordeltaR_2.csv\")\n",
    "# data_3 = pd.read_csv(\"/home/alan/FrankShower/B_hadron_Test/fordeltaR_3.csv\")\n",
    "\n",
    "data_1 = pd.read_csv(\"/home/alan/FrankShower/B_hadron_Test_2/fordeltaR_1.csv\")\n",
    "data_2 = pd.read_csv(\"/home/alan/FrankShower/B_hadron_Test_2/fordeltaR_2.csv\")\n",
    "data_3 = pd.read_csv(\"/home/alan/FrankShower/B_hadron_Test_2/fordeltaR_3.csv\")\n",
    "\n",
    "fig, ax = plt.subplots(1,1, figsize=(9,6))\n",
    "xvalue = np.linspace(0,2,41)\n",
    "plt.hist(data_1[\"dbb\"],bins=xvalue, histtype='step', color = \"r\", align='mid',linewidth=3,label=\"1st Slice\")\n",
    "plt.hist(data_2[\"dbb\"],bins=xvalue, histtype='step', color = \"g\", align='mid',linewidth=3,label=\"2nd Slice\")\n",
    "plt.hist(data_3[\"dbb\"],bins=xvalue, histtype='step', color = \"b\", align='mid',linewidth=3,label=\"3rd Slice\")\n",
    "\n",
    "plt.title(\"ggF\", fontsize=25)\n",
    "plt.xlabel(\"$\\Delta R(two\\,\\,B\\,Hadrons)$\", fontsize=25,horizontalalignment='right',x=1)\n",
    "# plt.xlabel(\"$\\Delta R(2-b\\,\\,tagging)$\", fontsize=25,horizontalalignment='right',x=1)\n",
    "# plt.xlabel(\"$truth\\,\\, \\Delta R(b \\\\bar{b})$\", fontsize=25,horizontalalignment='right',x=1)\n",
    "plt.ylabel(\"# of events\",fontsize=25,horizontalalignment='right',y=1)\n",
    "plt.axvline(x=0.2, c=\"m\",ls=\"--\",linewidth=3)\n",
    "plt.legend(fontsize=20)\n",
    "plt.show()\n",
    "# print(len(data_3))"
   ]
  },
  {
   "cell_type": "code",
   "execution_count": null,
   "metadata": {},
   "outputs": [],
   "source": [
    "importlib.reload(csv_decoder)\n",
    "# time counter\n",
    "print(time.strftime(\"%a %b %d %H:%M:%S %Y\", time.localtime()))\n",
    "ticks_1 = time.time()\n",
    "############################################################################################################################################################\n",
    "\n",
    "\n",
    "\n",
    "hj_clustered = csv_decoder.cluster_event(hj_event_list)\n",
    "vbf_clustered = csv_decoder.cluster_event(vbf_event_list)\n",
    "vh_clustered = csv_decoder.cluster_event(vh_event_list)\n",
    "tth_clustered = csv_decoder.cluster_event(tth_event_list)\n",
    "\n",
    "hj_non_higgs_jets, hj_non_higgs_fat_jets, hj_higgs_jet, hj_higgs_fat_jet, hj_non_higgs_jet_list = csv_decoder.recluster_event(hj_clustered, hj_higgs_list)\n",
    "vbf_non_higgs_jets, vbf_non_higgs_fat_jets, vbf_higgs_jet, vbf_higgs_fat_jet, vbf_non_higgs_jet_list = csv_decoder.recluster_event(vbf_clustered, vbf_higgs_list)\n",
    "vh_non_higgs_jets, vh_non_higgs_fat_jets, vh_higgs_jet, vh_higgs_fat_jet, vh_non_higgs_jet_list = csv_decoder.recluster_event(vh_clustered, vh_higgs_list)\n",
    "tth_non_higgs_jets, tth_non_higgs_fat_jets, tth_higgs_jet, ttH_higgs_fat_jet, tth_non_higgs_jet_list = csv_decoder.recluster_event(tth_clustered, tth_higgs_list)\n",
    "\n",
    "print(\"# of HJ\",len(hj_clustered))\n",
    "print(\"# of VBF\",len(vbf_clustered))\n",
    "print(\"# of VH\",len(vh_clustered))\n",
    "print(\"# of ttH\",len(tth_clustered))\n",
    "\n",
    "\n",
    "\n",
    "\n",
    "############################################################################################################################################################\n",
    "ticks_2 = time.time()\n",
    "totaltime =  ticks_2 - ticks_1\n",
    "print(\"\\033[3;33mTime consumption : {:.4f} min\\033[0;m\".format(totaltime/60.))"
   ]
  },
  {
   "cell_type": "code",
   "execution_count": null,
   "metadata": {},
   "outputs": [],
   "source": [
    "importlib.reload(csv_decoder)\n",
    "# time counter\n",
    "print(time.strftime(\"%a %b %d %H:%M:%S %Y\", time.localtime()))\n",
    "ticks_1 = time.time()\n",
    "############################################################################################################################################################\n",
    "\n",
    "\n",
    "# Produce jet images, the zero-center and normalize\n",
    "print('Producing jet images')\n",
    "hj_recluster_images = csv_decoder.return_jet_image_list(hj_event_list,hj_non_higgs_jets,0.8, width=width, height=height)\n",
    "vbf_recluster_images = csv_decoder.return_jet_image_list(vbf_event_list,vbf_non_higgs_jets,0.8, width=width, height=height)\n",
    "vh_recluster_images = csv_decoder.return_jet_image_list(vh_event_list,vh_non_higgs_jets,0.8, width=width, height=height)\n",
    "tth_recluster_images = csv_decoder.return_jet_image_list(tth_event_list,tth_non_higgs_jets,0.8, width=width, height=height)\n",
    "\n",
    "# Zero centering and normalizing\n",
    "hj_image_list, vbf_image_list, vh_image_list, tth_image_list = csv_decoder.zero_center_and_normalize((hj_image_list,vbf_image_list,vh_image_list,tth_image_list))\n",
    "hj_recluster_images, vbf_recluster_images, vh_recluster_images, tth_recluster_images  = csv_decoder.zero_center_and_normalize(( hj_recluster_images,vbf_recluster_images,vh_recluster_images,tth_recluster_images))\n",
    "\n",
    "\n",
    "############################################################################################################################################################\n",
    "ticks_2 = time.time()\n",
    "totaltime =  ticks_2 - ticks_1\n",
    "print(\"\\033[3;33mTime consumption : {:.4f} min\\033[0;m\".format(totaltime/60.))"
   ]
  },
  {
   "cell_type": "markdown",
   "metadata": {},
   "source": [
    "### Save to Numpy"
   ]
  },
  {
   "cell_type": "code",
   "execution_count": null,
   "metadata": {},
   "outputs": [],
   "source": [
    "importlib.reload(save_and_load)\n",
    "# time counter\n",
    "print(time.strftime(\"%a %b %d %H:%M:%S %Y\", time.localtime()))\n",
    "ticks_1 = time.time()\n",
    "############################################################################################################################################################\n",
    "# save_and_load.save(folder_name, process_name, event_list, mass_list, higgs, weight, image_list):\n",
    "save_and_load.save(\"./numpy_file_2\",\"ggH\",hj_event_list,hj_mass_list, hj_higgs_list, hj_weight_list,hj_image_list,hj_recluster_images)\n",
    "save_and_load.save(\"./numpy_file_2\",\"VBF\",vbf_event_list,vbf_mass_list, vbf_higgs_list, vbf_weight_list, vbf_image_list,vbf_recluster_images)\n",
    "save_and_load.save(\"./numpy_file_2\",\"VH\",vh_event_list,vh_mass_list, vh_higgs_list, vh_weight_list, vh_image_list,vh_recluster_images)\n",
    "save_and_load.save(\"./numpy_file_2\",\"ttH\",tth_event_list,tth_mass_list, tth_higgs_list, tth_weight_list, tth_image_list,tth_recluster_images)\n",
    "\n",
    "############################################################################################################################################################\n",
    "ticks_2 = time.time()\n",
    "totaltime =  ticks_2 - ticks_1\n",
    "print(\"\\033[3;33mTime Cost : {:.4f} min\\033[0;m\".format(totaltime/60.))"
   ]
  },
  {
   "cell_type": "markdown",
   "metadata": {},
   "source": [
    "### Load from Numpy"
   ]
  },
  {
   "cell_type": "code",
   "execution_count": 2,
   "metadata": {},
   "outputs": [
    {
     "name": "stdout",
     "output_type": "stream",
     "text": [
      "Mon May 25 19:51:09 2020\n",
      "\u001b[3;33mTime Cost : 3.5290 min\u001b[0;m\n"
     ]
    }
   ],
   "source": [
    "importlib.reload(save_and_load)\n",
    "# time counter\n",
    "print(time.strftime(\"%a %b %d %H:%M:%S %Y\", time.localtime()))\n",
    "ticks_1 = time.time()\n",
    "############################################################################################################################################################\n",
    "# save_and_load.load(folder_name, process_name)\n",
    "ggH_event_list,ggh_mass_list, ggh_higgs_list, ggh_weight_list,ggh_image_list, ggh_recluster_images = save_and_load.load(\"./numpy_file\",\"ggH\")\n",
    "vbf_event_list,vbf_mass_list, vbf_higgs_list, vbf_weight_list, vbf_image_list, vbf_recluster_images = save_and_load.load(\"./numpy_file\",\"VBF\")\n",
    "vh_event_list,vh_mass_list, vh_higgs_list, vh_weight_list, vh_image_list, vh_recluster_images = save_and_load.load(\"./numpy_file\",\"VH\")\n",
    "tth_event_list,tth_mass_list, tth_higgs_list, tth_weight_list, tth_image_list, tth_recluster_images = save_and_load.load(\"./numpy_file\",\"ttH\")\n",
    "\n",
    "############################################################################################################################################################\n",
    "ticks_2 = time.time()\n",
    "totaltime =  ticks_2 - ticks_1\n",
    "print(\"\\033[3;33mTime Cost : {:.4f} min\\033[0;m\".format(totaltime/60.))"
   ]
  },
  {
   "cell_type": "code",
   "execution_count": 28,
   "metadata": {},
   "outputs": [
    {
     "data": {
      "text/plain": [
       "array([[ 6.32366e+02, -7.39242e-01,  6.82450e-01,  1.24702e+02,\n",
       "         0.00000e+00,  2.40000e+01],\n",
       "       [ 6.70508e+02,  1.16744e+00,  3.28506e+00,  1.04190e+02,\n",
       "         6.33298e-02,  2.30000e+01],\n",
       "       [ 1.24061e+03, -1.22864e-01,  2.92917e+00,  1.12381e+02,\n",
       "         6.33298e-02,  2.40000e+01]])"
      ]
     },
     "execution_count": 28,
     "metadata": {},
     "output_type": "execute_result"
    }
   ],
   "source": [
    "np.array(vh_higgs_list)[:3]"
   ]
  },
  {
   "cell_type": "code",
   "execution_count": 30,
   "metadata": {},
   "outputs": [
    {
     "data": {
      "text/plain": [
       "(array([     0., 114675.,      0.]),\n",
       " array([23., 24., 25., 26.]),\n",
       " <a list of 3 Patch objects>)"
      ]
     },
     "execution_count": 30,
     "metadata": {},
     "output_type": "execute_result"
    },
    {
     "data": {
      "image/png": "[encoded data removed]",
      "text/plain": [
       "<Figure size 432x288 with 1 Axes>"
      ]
     },
     "metadata": {
      "needs_background": "light"
     },
     "output_type": "display_data"
    }
   ],
   "source": [
    "# binsize = np.linspace(100,150,51)\n",
    "binsize = np.linspace(23,26,4)\n",
    "plt.hist(np.array(tth_higgs_list)[:,5],bins=binsize)"
   ]
  },
  {
   "cell_type": "code",
   "execution_count": 5,
   "metadata": {},
   "outputs": [
    {
     "name": "stdout",
     "output_type": "stream",
     "text": [
      "ggH event image:\n"
     ]
    },
    {
     "data": {
      "image/png": "[encoded data removed]",
      "text/plain": [
       "<Figure size 1080x360 with 3 Axes>"
      ]
     },
     "metadata": {
      "needs_background": "light"
     },
     "output_type": "display_data"
    },
    {
     "name": "stdout",
     "output_type": "stream",
     "text": [
      "VBF event image:\n"
     ]
    },
    {
     "data": {
      "image/png": "[encoded data removed]",
      "text/plain": [
       "<Figure size 1080x360 with 3 Axes>"
      ]
     },
     "metadata": {
      "needs_background": "light"
     },
     "output_type": "display_data"
    },
    {
     "name": "stdout",
     "output_type": "stream",
     "text": [
      "VH event image:\n"
     ]
    },
    {
     "data": {
      "image/png": "[encoded data removed]",
      "text/plain": [
       "<Figure size 1080x360 with 3 Axes>"
      ]
     },
     "metadata": {
      "needs_background": "light"
     },
     "output_type": "display_data"
    },
    {
     "name": "stdout",
     "output_type": "stream",
     "text": [
      "ttH event image:\n"
     ]
    },
    {
     "data": {
      "image/png": "[encoded data removed]",
      "text/plain": [
       "<Figure size 1080x360 with 3 Axes>"
      ]
     },
     "metadata": {
      "needs_background": "light"
     },
     "output_type": "display_data"
    }
   ],
   "source": [
    "# Jet and event image\n",
    "print('ggH event image:')\n",
    "plt.figure(figsize=(15,5))\n",
    "plt.subplot(1,3,1)\n",
    "plt.imshow(ggh_image_list[0][0])\n",
    "# cb = plt.colorbar()\n",
    "# cb.ax.tick_params(labelsize=10)\n",
    "\n",
    "plt.subplot(1,3,2)\n",
    "plt.imshow(ggh_image_list[0][1])\n",
    "# cb = plt.colorbar()\n",
    "# cb.ax.tick_params(labelsize=10)\n",
    "\n",
    "plt.subplot(1,3,3)\n",
    "plt.imshow(ggh_image_list[0][2])\n",
    "# cb = plt.colorbar()\n",
    "# cb.ax.tick_params(labelsize=10)\n",
    "plt.show()\n",
    "print('VBF event image:')\n",
    "plt.figure(figsize=(15,5))\n",
    "plt.subplot(1,3,1)\n",
    "plt.imshow(vbf_image_list[0][0])\n",
    "plt.subplot(1,3,2)\n",
    "plt.imshow(vbf_image_list[0][1])\n",
    "plt.subplot(1,3,3)\n",
    "plt.imshow(vbf_image_list[0][2])\n",
    "# cb = plt.colorbar()\n",
    "# cb.ax.tick_params(labelsize=10)\n",
    "# plt.xticks(np.linspace(-5,5,10))\n",
    "plt.show()\n",
    "\n",
    "print('VH event image:')\n",
    "plt.figure(figsize=(15,5))\n",
    "plt.subplot(1,3,1)\n",
    "plt.imshow(vh_image_list[0][0])\n",
    "plt.subplot(1,3,2)\n",
    "plt.imshow(vh_image_list[0][1])\n",
    "plt.subplot(1,3,3)\n",
    "plt.imshow(vh_image_list[0][2])\n",
    "plt.show()\n",
    "\n",
    "\n",
    "print('ttH event image:')\n",
    "plt.figure(figsize=(15,5))\n",
    "plt.subplot(1,3,1)\n",
    "plt.imshow(tth_image_list[0][0])\n",
    "plt.subplot(1,3,2)\n",
    "plt.imshow(tth_image_list[0][1])\n",
    "plt.subplot(1,3,3)\n",
    "plt.imshow(tth_image_list[0][2])\n",
    "plt.show()\n"
   ]
  },
  {
   "cell_type": "code",
   "execution_count": 4,
   "metadata": {},
   "outputs": [
    {
     "name": "stdout",
     "output_type": "stream",
     "text": [
      "ggH Jet image:\n"
     ]
    },
    {
     "data": {
      "image/png": "[encoded data removed]",
      "text/plain": [
       "<Figure size 1080x360 with 3 Axes>"
      ]
     },
     "metadata": {
      "needs_background": "light"
     },
     "output_type": "display_data"
    },
    {
     "name": "stdout",
     "output_type": "stream",
     "text": [
      "VBF Jet image:\n"
     ]
    },
    {
     "data": {
      "image/png": "[encoded data removed]",
      "text/plain": [
       "<Figure size 1080x360 with 3 Axes>"
      ]
     },
     "metadata": {
      "needs_background": "light"
     },
     "output_type": "display_data"
    },
    {
     "name": "stdout",
     "output_type": "stream",
     "text": [
      "VH Jet image:\n"
     ]
    },
    {
     "data": {
      "image/png": "[encoded data removed]",
      "text/plain": [
       "<Figure size 1080x360 with 3 Axes>"
      ]
     },
     "metadata": {
      "needs_background": "light"
     },
     "output_type": "display_data"
    },
    {
     "name": "stdout",
     "output_type": "stream",
     "text": [
      "ttH Jet image:\n"
     ]
    },
    {
     "data": {
      "image/png": "[encoded data removed]",
      "text/plain": [
       "<Figure size 1080x360 with 3 Axes>"
      ]
     },
     "metadata": {
      "needs_background": "light"
     },
     "output_type": "display_data"
    }
   ],
   "source": [
    "# Jet and event image\n",
    "print('ggH Jet image:')\n",
    "plt.figure(figsize=(15,5))\n",
    "plt.subplot(1,3,1)\n",
    "plt.imshow(ggh_recluster_images[0][0])\n",
    "plt.subplot(1,3,2)\n",
    "plt.imshow(ggh_recluster_images[0][1])\n",
    "plt.subplot(1,3,3)\n",
    "plt.imshow(ggh_recluster_images[0][2])\n",
    "plt.show()\n",
    "print('VBF Jet image:')\n",
    "plt.figure(figsize=(15,5))\n",
    "plt.subplot(1,3,1)\n",
    "plt.imshow(vbf_recluster_images[0][0])\n",
    "plt.subplot(1,3,2)\n",
    "plt.imshow(vbf_recluster_images[0][1])\n",
    "plt.subplot(1,3,3)\n",
    "plt.imshow(vbf_recluster_images[0][2])\n",
    "plt.show()\n",
    "\n",
    "print('VH Jet image:')\n",
    "plt.figure(figsize=(15,5))\n",
    "plt.subplot(1,3,1)\n",
    "plt.imshow(vh_recluster_images[0][0])\n",
    "plt.subplot(1,3,2)\n",
    "plt.imshow(vh_recluster_images[0][1])\n",
    "plt.subplot(1,3,3)\n",
    "plt.imshow(vh_recluster_images[0][2])\n",
    "plt.show()\n",
    "\n",
    "\n",
    "print('ttH Jet image:')\n",
    "plt.figure(figsize=(15,5))\n",
    "plt.subplot(1,3,1)\n",
    "plt.imshow(tth_recluster_images[0][0])\n",
    "plt.subplot(1,3,2)\n",
    "plt.imshow(tth_recluster_images[0][1])\n",
    "plt.subplot(1,3,3)\n",
    "plt.imshow(tth_recluster_images[0][2])\n",
    "plt.show()"
   ]
  },
  {
   "cell_type": "markdown",
   "metadata": {},
   "source": [
    "### Splitting data"
   ]
  },
  {
   "cell_type": "code",
   "execution_count": null,
   "metadata": {},
   "outputs": [],
   "source": [
    "aaa = np.zeros((len(hj_image_list),40,40,3))\n",
    "print(hj_image_list[0].shape)\n",
    "# aaa = np.reshape(hj_image_list[0][0],(40, 40,3))\n",
    "for i in range(len(hj_image_list)):\n",
    "    aaa[i,:,:,0] = hj_image_list[i][0]\n",
    "    aaa[i,:,:,1] = hj_image_list[i][1]\n",
    "    aaa[i,:,:,2] = hj_image_list[i][2]\n",
    "print(aaa.shape)\n",
    "plt.figure(figsize=(15,5))\n",
    "plt.subplot(1,3,1)\n",
    "plt.imshow(aaa[0,:,:,0])\n",
    "cb = plt.colorbar()\n",
    "cb.ax.tick_params(labelsize=10)\n",
    "plt.figure(figsize=(15,5))\n",
    "plt.subplot(1,3,1)\n",
    "plt.imshow(hj_image_list[0,0])\n",
    "cb = plt.colorbar()\n",
    "cb.ax.tick_params(labelsize=10)"
   ]
  },
  {
   "cell_type": "code",
   "execution_count": null,
   "metadata": {},
   "outputs": [],
   "source": [
    "# Function that splits whole event dataset into test, train and evaluation sets.\n",
    "# the *_cut outputs has a 115<mass<135 cut.\n",
    "rsplit = np.array([0.5,0.75])\n",
    "\n",
    "def split_data(background_image_list,signal_image_list,background_mass_list, signal_mass_list, cut=False):\n",
    "    try:\n",
    "        input_shape = background_image_list[0].shape\n",
    "    except AttributeError:\n",
    "        input_shape = (0)\n",
    "        \n",
    "    b_split = np.split(background_image_list,(len(background_image_list)*rsplit).astype(int))\n",
    "    s_split = np.split(signal_image_list,(len(signal_image_list)*rsplit).astype(int))\n",
    "    bm_split = np.split(background_mass_list,(len(background_mass_list)*rsplit).astype(int))\n",
    "    sm_split = np.split(signal_mass_list,(len(signal_mass_list)*rsplit).astype(int))\n",
    "    \n",
    "    x_train = np.concatenate((b_split[0],s_split[0]))\n",
    "    y_train = np.array(np.concatenate((np.zeros(len(b_split[0])),np.ones(len(s_split[0])))))\n",
    "    mass_train = np.concatenate((bm_split[0],sm_split[0]))\n",
    "    \n",
    "    x_val = np.concatenate((b_split[1],s_split[1]))\n",
    "    y_val = np.array(np.concatenate((np.zeros(len(b_split[1])),np.ones(len(s_split[1])))))\n",
    "    mass_val = np.concatenate((bm_split[1],sm_split[1]))\n",
    "    \n",
    "    x_test = np.concatenate((b_split[2],s_split[2]))\n",
    "    y_test = np.array(np.concatenate((np.zeros(len(b_split[2])),np.ones(len(s_split[2])))))\n",
    "    mass_test = np.concatenate((bm_split[2],sm_split[2]))\n",
    "    \n",
    "    # Output dataset with mass cut\n",
    "    if cut:\n",
    "        x_train_cut = []\n",
    "        y_train_cut = []\n",
    "        mass_train_cut = []\n",
    "        for x in reversed(range(len(x_train))):\n",
    "            if mass_train[x] < 135 and mass_train[x] > 115:\n",
    "                x_train_cut.append(x_train[x])\n",
    "                y_train_cut.append(y_train[x])\n",
    "                mass_train_cut.append(mass_train[x])\n",
    "        x_train_cut = np.array(x_train_cut)\n",
    "        y_train_cut = np.array(y_train_cut)\n",
    "        mass_train_cut = np.array(mass_train_cut)\n",
    "\n",
    "        x_val_cut = [] \n",
    "        y_val_cut = []\n",
    "        mass_val_cut = []\n",
    "        for x in reversed(range(len(x_val))):\n",
    "            if mass_val[x] < 135 and mass_val[x] > 115:\n",
    "                x_val_cut.append(x_val[x])\n",
    "                y_val_cut.append(y_val[x])\n",
    "                mass_val_cut.append(mass_val[x])\n",
    "        x_val_cut = np.array(x_val_cut)\n",
    "        y_val_cut = np.array(y_val_cut)\n",
    "        mass_val_cut = np.array(mass_val_cut)\n",
    "\n",
    "        x_test_cut = [] \n",
    "        y_test_cut = []\n",
    "        mass_test_cut = []\n",
    "        for x in reversed(range(len(x_test))):\n",
    "            if mass_test[x] < 135 and mass_test[x] > 115:\n",
    "                x_test_cut.append(x_test[x])\n",
    "                y_test_cut.append(y_test[x])\n",
    "                mass_test_cut.append(mass_test[x])\n",
    "        x_test_cut = np.array(x_test_cut)\n",
    "        y_test_cut = np.array(y_test_cut)\n",
    "        mass_test_cut = np.array(mass_test_cut)\n",
    "        return(input_shape,\n",
    "               x_train_cut,y_train_cut,mass_train_cut,\n",
    "               x_val_cut,y_val_cut,mass_val_cut,\n",
    "               x_test_cut,y_test_cut,mass_test_cut,\n",
    "               )\n",
    "    return(input_shape,\n",
    "           x_train,y_train,mass_train,\n",
    "           x_val,y_val,mass_val,\n",
    "           x_test,y_test,mass_test,\n",
    "           )"
   ]
  },
  {
   "cell_type": "code",
   "execution_count": null,
   "metadata": {},
   "outputs": [],
   "source": [
    "input_shape, \\\n",
    "    x_train,y_train,mass_train, \\\n",
    "    x_val,y_val,mass_val, \\\n",
    "    x_test,y_test,mass_test = split_data(hj_image_list,vbf_image_list,hj_mass_list, vbf_mass_list)"
   ]
  },
  {
   "cell_type": "code",
   "execution_count": null,
   "metadata": {},
   "outputs": [],
   "source": [
    "x_train_event = np.zeros((len(x_train),40,40,3))\n",
    "x_val_event = np.zeros((len(x_val),40,40,3))\n",
    "x_test_event = np.zeros((len(x_test),40,40,3))\n",
    "\n",
    "for i in range(len(x_train)):\n",
    "    x_train_event[i,:,:,0] = x_train[i][0]\n",
    "    x_train_event[i,:,:,1] = x_train[i][1]\n",
    "    x_train_event[i,:,:,2] = x_train[i][2]\n",
    "\n",
    "for i in range(len(x_val)):\n",
    "    x_val_event[i,:,:,0] = x_val[i][0]\n",
    "    x_val_event[i,:,:,1] = x_val[i][1]\n",
    "    x_val_event[i,:,:,2] = x_val[i][2]\n",
    "    \n",
    "for i in range(len(x_test)):\n",
    "    x_test_event[i,:,:,0] = x_test[i][0]\n",
    "    x_test_event[i,:,:,1] = x_test[i][1]\n",
    "    x_test_event[i,:,:,2] = x_test[i][2]\n",
    "\n",
    "\n",
    "input_shape = (40, 40,3)\n",
    "\n",
    "print(len(x_train[0]))\n",
    "print(x_train[0,:,:,0].shape)\n",
    "\n",
    "plt.figure(figsize=(15,5))\n",
    "plt.subplot(1,3,1)\n",
    "plt.imshow(x_train[0,0,:,:])\n",
    "cb = plt.colorbar()\n",
    "cb.ax.tick_params(labelsize=10)\n",
    "plt.figure(figsize=(15,5))\n",
    "plt.subplot(1,3,1)\n",
    "plt.imshow(x_train_event[0,:,:,0])\n",
    "cb = plt.colorbar()\n",
    "cb.ax.tick_params(labelsize=10)"
   ]
  },
  {
   "cell_type": "code",
   "execution_count": null,
   "metadata": {},
   "outputs": [],
   "source": [
    "#!/usr/bin/env python\n",
    "# encoding: utf-8\n",
    "from __future__ import absolute_import, division, print_function, unicode_literals\n",
    "# Install TensorFlow\n",
    "import tensorflow as tf\n",
    "import tensorflow.keras as keras\n",
    "from tensorflow.keras.models import Sequential, load_model\n",
    "from tensorflow.keras.layers import Dense, Dropout, Flatten , Convolution2D, MaxPooling2D , Lambda, Conv2D, Activation,Concatenate\n",
    "from tensorflow.keras.optimizers import Adam , SGD , Adagrad\n",
    "from tensorflow.keras.callbacks import ModelCheckpoint, LearningRateScheduler, EarlyStopping, CSVLogger\n",
    "from tensorflow.keras.utils import to_categorical\n",
    "from tensorflow.keras import regularizers , initializers\n",
    "from tensorflow.keras.models import Model\n",
    "\n",
    "from sklearn.model_selection import train_test_split\n",
    "from sklearn.ensemble import GradientBoostingClassifier\n",
    "from sklearn.utils import shuffle\n",
    "# from xgboost import XGBClassifier\n",
    "import tensorflow.keras.backend as K\n",
    "from sklearn import metrics\n"
   ]
  },
  {
   "cell_type": "code",
   "execution_count": null,
   "metadata": {},
   "outputs": [],
   "source": [
    "print(\"Tensorflow version is\")\n",
    "print(tf.__version__)\n",
    "print(\"Keras version is\")\n",
    "print(tf.keras.__version__)\n",
    "from tensorflow.python.client import device_lib\n",
    "print(device_lib.list_local_devices())\n",
    "# tf.device('/device:GPU:3')"
   ]
  },
  {
   "cell_type": "code",
   "execution_count": null,
   "metadata": {},
   "outputs": [],
   "source": [
    "#FUNCTIONS FOR ML\n",
    "\n",
    "#FRANK# returns a function that generates a padding layer\n",
    "#FRANK# x is the detector image, of following format:\n",
    "#FRANK# [index, image#(charged and neutral pt and multiplicity), 40, 40]\n",
    "def return_pad_me(padding):\n",
    "    def pad_me(x):\n",
    "        #FRANK# x[:,:,:y,:] slice x off from y at the given axis.\n",
    "        return(tf.concat((x,x[:,:,:padding,:]),2))\n",
    "#         return(tf.concat((2,x,x[:,:,:padding,:])))\n",
    "    return(pad_me)\n",
    "\n",
    "def pad_out(padding,input_shape):\n",
    "    return input_shape\n",
    "\n",
    "class gen_call(keras.callbacks.Callback):\n",
    "    \n",
    "    def __init__(self, test_data):\n",
    "        self.x, self.y = test_data\n",
    "    \n",
    "    def on_train_begin(self,logs={}):\n",
    "        self.highest_SIC_train = []\n",
    "        self.highest_SIC_test = []\n",
    "        \n",
    "    def on_epoch_end(self,epoch,logs={}):\n",
    "        y_pred = self.model.predict(self.x)\n",
    "        self.highest_SIC_test.append(find_highest_SIC(self.y,y_pred))\n",
    "        print(str(self.highest_SIC_test[-1]) + \" is how good\")\n",
    "\n",
    "def show_outputs(output):\n",
    "    #Assumes the output is in shape like (32,41,36)\n",
    "    \n",
    "    fig = plt.figure(figsize=(8,6))\n",
    "    \n",
    "    for i in range(1,1+output.shape[0]):\n",
    "        fig.add_subplot(4,output.shape[0]/4,i)\n",
    "        plt.imshow(10*output[i-1,:,:])\n",
    "        plt.axis('off')\n",
    "    #plt.axis('off')\n",
    "    plt.show()"
   ]
  },
  {
   "cell_type": "code",
   "execution_count": null,
   "metadata": {},
   "outputs": [],
   "source": [
    "#FRANK# this method is the exact replica of find_highest_SIC() but operates on tensors.\n",
    "#FRANK# for some reason, pred has different format as expect. \n",
    "print(tf.__version__)\n",
    "def highest_SIC_metric(y_true,y_pred):\n",
    "    print('highest_SIC_metric() is called')\n",
    "    y_true = tf.keras.backend.flatten(y_true) #FRANK# flattens to 1D\n",
    "    y_pred = tf.keras.backend.flatten(y_pred) #FRANK# flattens to 1D\n",
    "    \n",
    "    #stacked = tf.transpose(tf.stack((expect,predict)))\n",
    "    #to_sort = tf.reverse(sorted(stacked, key=lambda x: x[1]),0) #FRANK# sorted is wrong!!\n",
    "    total_sample = tf.cast(tf.size(y_pred), tf.float32)  # count total nums, then cast to float32 to avoid issue\n",
    "    total_signal = tf.cast(tf.reduce_sum(y_true), tf.float32)  # summing across all predicted (where sigs are 1's and bkgs are 0's) to get total num of signal. \n",
    "    total_background = tf.cast(tf.subtract(total_sample, total_signal), tf.float32)  # subtracting signal countss from total size to get background counts\n",
    "    \n",
    "    \n",
    "    # original mechanism:\n",
    "    # 1. sort by ML score\n",
    "    # 2. sum all actuals before an index\n",
    "    # 3. count all 0's before an index \n",
    "    \n",
    "    sorted_indices = tf.argsort(y_pred,axis=-1,direction='ASCENDING')\n",
    "    sorted_sigs = tf.gather(y_pred,sorted_indices)\n",
    "    # return the indices of prediction in ascending order. By reading these indices, you can access corresponding expected y's.\n",
    "    ones = tf.fill(tf.shape(sorted_sigs), 1.0)\n",
    "    sorted_bkgs = tf.subtract(ones, sorted_sigs)\n",
    "    # make a sorted tensor where 1's are bkgs and 0's are sigs\n",
    "    \n",
    "    sig_cum_sums = tf.cast(tf.cumsum(sorted_sigs), tf.float32) # return the integrated signal number from 0 to each index\n",
    "    bkg_cum_sums = tf.cast(tf.cumsum(sorted_bkgs), tf.float32) # return the integrated bkg number from 0 to each index\n",
    "\n",
    "    sig_effs = tf.divide(sig_cum_sums, total_signal)\n",
    "    bkg_effs = tf.divide(bkg_cum_sums, total_background) #FRANK# total_background might be 0, causing bkg_effs=inf\n",
    "    effs = tf.divide(sig_effs, tf.sqrt(bkg_effs))\n",
    "        \n",
    "    return tf.reduce_max(effs)"
   ]
  },
  {
   "cell_type": "markdown",
   "metadata": {},
   "source": [
    "### CNN Network Structure"
   ]
  },
  {
   "cell_type": "code",
   "execution_count": null,
   "metadata": {},
   "outputs": [],
   "source": [
    "#FINAL - This is the convolutional net for the event image\n",
    "model = Sequential()\n",
    "model.add(Lambda(return_pad_me(4),\n",
    "                 input_shape=input_shape))\n",
    "model.add(Conv2D(32, kernel_size=(5, 5), strides=(1, 1),\n",
    "                 activation='relu',\n",
    "                 data_format='channels_last'))\n",
    "#model_nopad.add(keras.layers.LeakyReLU(alpha=0.1))\n",
    "model.add(Lambda(return_pad_me(1),\n",
    "                 input_shape=input_shape))\n",
    "model.add(MaxPooling2D(pool_size=(2, 2), strides=(2, 2),data_format='channels_last'))\n",
    "model.add(Lambda(return_pad_me(4),\n",
    "                 input_shape=input_shape))\n",
    "model.add(Conv2D(64, (5, 5), \n",
    "                 activation='relu',\n",
    "                 data_format=None))\n",
    "#model_nopad.add(keras.layers.LeakyReLU(alpha=0.1))\n",
    "model.add(Lambda(return_pad_me(1),\n",
    "                 input_shape=input_shape))\n",
    "model.add(MaxPooling2D(pool_size=(2, 2),data_format=\"channels_last\"))\n",
    "model.add(Flatten())\n",
    "model.add(Dense(1000, activation='relu'))\n",
    "#model_nopad.add(keras.layers.LeakyReLU(alpha=0.1))\n",
    "model.add(Dense(1, activation='sigmoid'))\n",
    "model.summary()\n",
    "\n",
    "#model_opt = keras.optimizers.Adadelta(lr=2.0, rho=0.95, epsilon=None, decay=0.0)\n",
    "model_opt = keras.optimizers.Adadelta() #FRANK# decrease learning rate\n",
    "\n",
    "model.compile(loss=keras.losses.binary_crossentropy,\n",
    "              optimizer=model_opt,\n",
    "              metrics=['accuracy', highest_SIC_metric])"
   ]
  },
  {
   "cell_type": "code",
   "execution_count": null,
   "metadata": {},
   "outputs": [],
   "source": [
    "# time counter\n",
    "print(time.strftime(\"%a %b %d %H:%M:%S %Y\", time.localtime()))\n",
    "ticks_1 = time.time()\n",
    "############################################################################################################################################################\n",
    "\n",
    "epochs = 10\n",
    "history_event_only = model.fit(x_train_event, y_train,\n",
    "        batch_size=50,#batch_size,\n",
    "        epochs=epochs,\n",
    "        validation_data=(x_val_event,y_val),\n",
    "        verbose=1, shuffle=True, callbacks=[EarlyStopping(monitor='highest_SIC_test', patience=2)])\n",
    "\n",
    "############################################################################################################################################################\n",
    "ticks_2 = time.time()\n",
    "totaltime =  ticks_2 - ticks_1\n",
    "print(\"\\033[3;33mTime Cost : {:.4f} min\\033[0;m\".format(totaltime/60.))"
   ]
  },
  {
   "cell_type": "code",
   "execution_count": null,
   "metadata": {},
   "outputs": [],
   "source": [
    "plt.plot(history_event_only.history['accuracy'], label='accuracy')\n",
    "plt.plot(history_event_only.history['val_accuracy'], label = 'val_accuracy')\n",
    "plt.xlabel('Epoch')\n",
    "plt.ylabel('Accuracy')\n",
    "plt.ylim([0.5, 1])\n",
    "plt.legend(loc='lower right')\n",
    "\n",
    "aaaa = model.evaluate(x_test_tmp,  y_test, verbose=0)\n",
    "print(\"{}: {:.5f}\".format(model.metrics_names[0],aaaa[0]))\n",
    "print(\"{}: {:.5f}\".format(model.metrics_names[1],aaaa[1]))\n",
    "print(\"{}: {:.5f}\".format(model.metrics_names[2],aaaa[2]))"
   ]
  },
  {
   "cell_type": "code",
   "execution_count": null,
   "metadata": {},
   "outputs": [],
   "source": [
    "input_shape, \\\n",
    "    x_train,y_train,mass_train, \\\n",
    "    x_val,y_val,mass_val, \\\n",
    "    x_test,y_test,mass_test = split_data(hj_recluster_images,vbf_recluster_images,hj_mass_list, vbf_mass_list)"
   ]
  },
  {
   "cell_type": "code",
   "execution_count": null,
   "metadata": {},
   "outputs": [],
   "source": [
    "x_train_jet = np.zeros((len(x_train),40,40,3))\n",
    "x_val_jet = np.zeros((len(x_val),40,40,3))\n",
    "x_test_jet = np.zeros((len(x_test),40,40,3))\n",
    "\n",
    "for i in range(len(x_train)):\n",
    "    x_train_jet[i,:,:,0] = x_train[i][0]\n",
    "    x_train_jet[i,:,:,1] = x_train[i][1]\n",
    "    x_train_jet[i,:,:,2] = x_train[i][2]\n",
    "\n",
    "for i in range(len(x_val)):\n",
    "    x_val_jet[i,:,:,0] = x_val[i][0]\n",
    "    x_val_jet[i,:,:,1] = x_val[i][1]\n",
    "    x_val_jet[i,:,:,2] = x_val[i][2]\n",
    "    \n",
    "for i in range(len(x_test)):\n",
    "    x_test_jet[i,:,:,0] = x_test[i][0]\n",
    "    x_test_jet[i,:,:,1] = x_test[i][1]\n",
    "    x_test_jet[i,:,:,2] = x_test[i][2]\n",
    "\n",
    "\n",
    "input_shape = (40, 40,3)\n",
    "\n",
    "print(len(x_train[0]))\n",
    "print(x_train[0,:,:,0].shape)\n",
    "\n",
    "plt.figure(figsize=(15,5))\n",
    "plt.subplot(1,3,1)\n",
    "plt.imshow(x_train[0,0,:,:])\n",
    "cb = plt.colorbar()\n",
    "cb.ax.tick_params(labelsize=10)\n",
    "plt.figure(figsize=(15,5))\n",
    "plt.subplot(1,3,1)\n",
    "plt.imshow(x_train_jet[0,:,:,0])\n",
    "cb = plt.colorbar()\n",
    "cb.ax.tick_params(labelsize=10)"
   ]
  },
  {
   "cell_type": "code",
   "execution_count": null,
   "metadata": {},
   "outputs": [],
   "source": [
    "model_fine = Sequential()\n",
    "model_fine.add(Conv2D(32, kernel_size=(5, 5), strides=(1, 1),\n",
    "                 activation='relu',\n",
    "                data_format='channels_last',input_shape=input_shape))\n",
    "#model_fine.add(Dropout(0.5))\n",
    "model_fine.add(MaxPooling2D(pool_size=(2, 2), strides=(2, 2),data_format='channels_last'))\n",
    "model_fine.add(Conv2D(64, (5, 5), activation='relu',data_format='channels_last'))\n",
    "#model_fine.add(Dropout(0.5))\n",
    "model_fine.add(MaxPooling2D(pool_size=(2, 2),data_format='channels_last'))\n",
    "model_fine.add(Flatten())\n",
    "model_fine.add(Dense(1000, activation='relu'))\n",
    "#model_fine.add(Dropout(0.2))\n",
    "model_fine.add(Dense(1, activation='sigmoid'))\n",
    "#model_fine.summary()\n",
    "\n",
    "model_opt = keras.optimizers.Adadelta()\n",
    "\n",
    "model_fine.compile(loss=keras.losses.binary_crossentropy,\n",
    "              optimizer=model_opt,\n",
    "              metrics=['accuracy'])"
   ]
  },
  {
   "cell_type": "code",
   "execution_count": null,
   "metadata": {},
   "outputs": [],
   "source": [
    "# time counter\n",
    "print(time.strftime(\"%a %b %d %H:%M:%S %Y\", time.localtime()))\n",
    "ticks_1 = time.time()\n",
    "############################################################################################################################################################\n",
    "\n",
    "batch_size = 50\n",
    "epochs = 10\n",
    "history_event_only = model_fine.fit(x_train_jet,y_train,\n",
    "               batch_size = batch_size,\n",
    "               epochs = epochs,\n",
    "               verbose = 1, \n",
    "               shuffle = True, \n",
    "               validation_data=(x_val_jet,y_val))\n",
    "               #callbacks=[EarlyStopping(monitor='highest_SIC_test', patience=2), gen_call((x_val_cut_r,y_val_cut_r))])\n",
    "\n",
    "\n",
    "############################################################################################################################################################\n",
    "ticks_2 = time.time()\n",
    "totaltime =  ticks_2 - ticks_1\n",
    "print(\"\\033[3;33mTime Cost : {:.4f} min\\033[0;m\".format(totaltime/60.))"
   ]
  },
  {
   "cell_type": "code",
   "execution_count": null,
   "metadata": {},
   "outputs": [],
   "source": [
    "plt.plot(history_event_only.history['accuracy'], label='accuracy')\n",
    "plt.plot(history_event_only.history['val_accuracy'], label = 'val_accuracy')\n",
    "plt.xlabel('Epoch')\n",
    "plt.ylabel('Accuracy')\n",
    "plt.ylim([0.5, 1])\n",
    "plt.legend(loc='lower right')\n",
    "\n",
    "aaaa = model_fine.evaluate(x_test_jet,  y_test, verbose=0)\n",
    "print(\"{}: {:.5f}\".format(model_fine.metrics_names[0],aaaa[0]))\n",
    "print(\"{}: {:.5f}\".format(model_fine.metrics_names[1],aaaa[1]))\n",
    "# print(\"{}: {:.5f}\".format(model_fine.metrics_names[2],aaaa[2])) "
   ]
  },
  {
   "cell_type": "code",
   "execution_count": null,
   "metadata": {},
   "outputs": [],
   "source": [
    "print(len(x_train_event))\n",
    "print(len(x_train_jet))\n",
    "print(len(x_test_event))\n",
    "print(len(x_test_jet))\n",
    "print(len(x_val_event))\n",
    "print(len(x_val_jet))"
   ]
  },
  {
   "cell_type": "code",
   "execution_count": null,
   "metadata": {},
   "outputs": [],
   "source": [
    "model1 = Sequential()\n",
    "model1.add(Lambda(return_pad_me(4),\n",
    "                 input_shape=input_shape))\n",
    "model1.add(Conv2D(32, kernel_size=(5, 5), strides=(1, 1),\n",
    "                 activation='relu',\n",
    "                 data_format='channels_last'))\n",
    "#model_nopad.add(keras.layers.LeakyReLU(alpha=0.1))\n",
    "model1.add(Lambda(return_pad_me(1),\n",
    "                 input_shape=input_shape))\n",
    "model1.add(MaxPooling2D(pool_size=(2, 2), strides=(2, 2),data_format='channels_last'))\n",
    "model1.add(Lambda(return_pad_me(4),\n",
    "                 input_shape=input_shape))\n",
    "model1.add(Conv2D(64, (5, 5), \n",
    "                 activation='relu',\n",
    "                 data_format=None))\n",
    "#model_nopad.add(keras.layers.LeakyReLU(alpha=0.1))\n",
    "model1.add(Lambda(return_pad_me(1),\n",
    "                 input_shape=input_shape))\n",
    "model1.add(MaxPooling2D(pool_size=(2, 2),data_format=\"channels_last\"))\n",
    "model1.add(Flatten())\n",
    "model1.add(Dense(1000, activation='relu'))\n",
    "#model_nopad.add(keras.layers.LeakyReLU(alpha=0.1))\n",
    "# model1.add(Dense(1, activation='sigmoid'))\n",
    "# model1.summary()\n",
    "\n",
    "#model_opt = keras.optimizers.Adadelta(lr=2.0, rho=0.95, epsilon=None, decay=0.0)\n",
    "# model_opt = keras.optimizers.Adadelta() #FRANK# decrease learning rate\n",
    "\n",
    "# model1.compile(loss=keras.losses.binary_crossentropy,\n",
    "#               optimizer=model_opt,\n",
    "#               metrics=['accuracy', highest_SIC_metric])\n",
    "\n",
    "\n",
    "model2 = Sequential()\n",
    "model2.add(Conv2D(32, kernel_size=(5, 5), strides=(1, 1),\n",
    "                 activation='relu',\n",
    "                data_format='channels_last',input_shape=input_shape))\n",
    "#model_fine.add(Dropout(0.5))\n",
    "model2.add(MaxPooling2D(pool_size=(2, 2), strides=(2, 2),data_format='channels_last'))\n",
    "model2.add(Conv2D(64, (5, 5), activation='relu',data_format='channels_last'))\n",
    "#model_fine.add(Dropout(0.5))\n",
    "model2.add(MaxPooling2D(pool_size=(2, 2),data_format='channels_last'))\n",
    "model2.add(Flatten())\n",
    "model2.add(Dense(1000, activation='relu'))\n",
    "#model_fine.add(Dropout(0.2))\n",
    "# model2.add(Dense(1, activation='sigmoid'))\n",
    "\n",
    "\n",
    "\n",
    "\n",
    "mergedOut = Concatenate()([model1.output,model2.output])\n",
    "mergedOut = Dense(1, activation='sigmoid')(mergedOut)\n",
    "\n",
    "\n",
    "newModel = Model([model1.input,model2.input], mergedOut)\n",
    "\n",
    "newModel.summary()\n",
    "\n",
    "\n",
    "\n"
   ]
  },
  {
   "cell_type": "code",
   "execution_count": null,
   "metadata": {},
   "outputs": [],
   "source": [
    "model_opt = keras.optimizers.Adadelta()\n",
    "\n",
    "newModel.compile(loss=keras.losses.binary_crossentropy,\n",
    "              optimizer=model_opt,\n",
    "              metrics=['accuracy'])\n",
    "\n",
    "\n",
    "history = newModel.fit([x_train_event, x_train_jet], y_train,\n",
    "            batch_size = 50,\n",
    "            epochs = 10,\n",
    "            verbose = 1, \n",
    "            shuffle = True, \n",
    "            validation_data=([x_val_event, x_val_jet],y_val)\n",
    "            )"
   ]
  },
  {
   "cell_type": "code",
   "execution_count": null,
   "metadata": {},
   "outputs": [],
   "source": [
    "plt.plot(history.history['accuracy'], label='accuracy')\n",
    "plt.plot(history.history['val_accuracy'], label = 'val_accuracy')\n",
    "plt.xlabel('Epoch')\n",
    "plt.ylabel('Accuracy')\n",
    "plt.ylim([0.5, 1])\n",
    "plt.legend(loc='lower right')\n",
    "\n",
    "aaaa = newModel.evaluate([x_test_event, x_test_jet],  y_test, verbose=0)\n",
    "print(\"{}: {:.5f}\".format(newModel.metrics_names[0],aaaa[0]))\n",
    "print(\"{}: {:.5f}\".format(newModel.metrics_names[1],aaaa[1]))\n",
    "# print(\"{}: {:.5f}\".format(model_fine.metrics_names[2],aaaa[2])) "
   ]
  },
  {
   "cell_type": "code",
   "execution_count": null,
   "metadata": {},
   "outputs": [],
   "source": []
  }
 ],
 "metadata": {
  "kernelspec": {
   "display_name": "Python 3",
   "language": "python",
   "name": "python3"
  },
  "language_info": {
   "codemirror_mode": {
    "name": "ipython",
    "version": 3
   },
   "file_extension": ".py",
   "mimetype": "text/x-python",
   "name": "python",
   "nbconvert_exporter": "python",
   "pygments_lexer": "ipython3",
   "version": "3.7.4"
  }
 },
 "nbformat": 4,
 "nbformat_minor": 4
}
